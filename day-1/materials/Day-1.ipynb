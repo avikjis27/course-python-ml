{
 "cells": [
  {
   "cell_type": "markdown",
   "id": "6e92b14a-7125-4b8a-b709-4748d344f3f0",
   "metadata": {},
   "source": [
    "# Day - 1 | Introduction and Expectation Set"
   ]
  },
  {
   "cell_type": "markdown",
   "id": "8fd903dd-c2e4-4645-9908-5925fd0b8557",
   "metadata": {},
   "source": [
    "## How the course organised"
   ]
  },
  {
   "cell_type": "markdown",
   "id": "4e40bc10-854a-48ec-a0e3-b7a675e051a2",
   "metadata": {},
   "source": [
    "## What are the prerequisite to attend this course"
   ]
  },
  {
   "cell_type": "markdown",
   "id": "2cd7b2df-9e84-4a4a-a76d-432af6285a98",
   "metadata": {},
   "source": [
    "## What is the participant's responsibility during the course"
   ]
  },
  {
   "cell_type": "markdown",
   "id": "90e35ebd-c133-4d3a-ac5c-4a6ed28ce203",
   "metadata": {},
   "source": [
    "## Course expectations"
   ]
  },
  {
   "cell_type": "markdown",
   "id": "35d85e3f-9720-4abe-8456-9e5607f4b115",
   "metadata": {},
   "source": [
    "## Day one activities"
   ]
  },
  {
   "cell_type": "markdown",
   "id": "a3a06466-f3e3-4f84-be7e-204f8baa2628",
   "metadata": {},
   "source": [
    "## Important Links\n",
    "- [Python 3 Reference documentation](https://docs.python.org/3/reference/index.html)\n",
    "- [Official python tutorial](https://docs.python.org/3/tutorial/index.html)"
   ]
  },
  {
   "cell_type": "code",
   "execution_count": null,
   "id": "ad1bd9ef-bce5-46ab-89cc-ea511f3be397",
   "metadata": {},
   "outputs": [],
   "source": []
  }
 ],
 "metadata": {
  "kernelspec": {
   "display_name": "Python 3",
   "language": "python",
   "name": "python3"
  },
  "language_info": {
   "codemirror_mode": {
    "name": "ipython",
    "version": 3
   },
   "file_extension": ".py",
   "mimetype": "text/x-python",
   "name": "python",
   "nbconvert_exporter": "python",
   "pygments_lexer": "ipython3",
   "version": "3.8.2"
  }
 },
 "nbformat": 4,
 "nbformat_minor": 5
}
