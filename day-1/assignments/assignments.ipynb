{
 "cells": [
  {
   "cell_type": "markdown",
   "id": "cb93bf8c-7596-4fb7-8c27-b7cb4496760c",
   "metadata": {},
   "source": [
    "### Anurag's solution"
   ]
  },
  {
   "cell_type": "code",
   "execution_count": 32,
   "id": "303fd8ae-27d2-4692-9017-348cdb558445",
   "metadata": {},
   "outputs": [
    {
     "name": "stdout",
     "output_type": "stream",
     "text": [
      "['Initial']\n",
      "Valid Paranthesis\n"
     ]
    }
   ],
   "source": [
    "test = \"[]\"\n",
    "stack =[]\n",
    "temp = 0\n",
    "i=0\n",
    "stack.append('Initial')\n",
    "while i<len(test):\n",
    "    if test[i] == '(':\n",
    "        stack.append(test[i])\n",
    "    if test[i] == '{':\n",
    "        stack.append(test[i])\n",
    "    if test[i] == '[':\n",
    "        stack.append(test[i])\n",
    "    if test[i] == ')':\n",
    "        if stack[len(stack)-1] == '(':\n",
    "            stack.pop()\n",
    "        else:\n",
    "            temp = temp+1\n",
    "    if test[i] == '}':\n",
    "        if stack[len(stack)-1] == '{':\n",
    "            stack.pop()\n",
    "        else:\n",
    "            temp = temp+1\n",
    "    if test[i] == ']':\n",
    "        if stack[len(stack)-1] == '[':\n",
    "            stack.pop()\n",
    "        else:\n",
    "            temp = temp+1\n",
    "    i = i+1\n",
    "\n",
    "print(stack)\n",
    "if (len(stack) > 1 or temp > 0):\n",
    "    print('Invalid Paranthesis')\n",
    "else:\n",
    "    print('Valid Paranthesis')"
   ]
  },
  {
   "cell_type": "raw",
   "id": "b8689106-4f91-45f1-8d0a-c98d4f676cd1",
   "metadata": {},
   "source": [
    "Can you find out the short comings in the above code?\n",
    "\n",
    "Understand the cyclomatic complexity:\n",
    "radon cc hello.py -a"
   ]
  },
  {
   "cell_type": "markdown",
   "id": "c62ba2ca-822b-4943-9d7b-2013b3410498",
   "metadata": {},
   "source": [
    "### Refactored - 1"
   ]
  },
  {
   "cell_type": "code",
   "execution_count": 23,
   "id": "c96fbd46-a3d0-47d3-81ac-03879a850399",
   "metadata": {},
   "outputs": [
    {
     "name": "stdin",
     "output_type": "stream",
     "text": [
      "Give a string:  22\n"
     ]
    },
    {
     "name": "stdout",
     "output_type": "stream",
     "text": [
      "Balanced string\n"
     ]
    }
   ],
   "source": [
    "test = input(\"Give a string: \")\n",
    "temp_stack = []\n",
    "matching = {\n",
    "    '(':')',\n",
    "    '{':'}',\n",
    "    '[':']'\n",
    "}\n",
    "for char in test:\n",
    "    if char in ['(', '{', '[']:\n",
    "        temp_stack.append(char)\n",
    "    if char in [')', '}', ']']:\n",
    "        top = temp_stack.pop(-1)\n",
    "        if char != matching[top]:\n",
    "            break\n",
    "if len(temp_stack) == 0:\n",
    "    print (\"Balanced string\")\n",
    "else:\n",
    "    print(\"Unblanaced String\")\n",
    "        "
   ]
  },
  {
   "cell_type": "markdown",
   "id": "b09e63a4-7729-4396-aaf1-8e7c569d9f16",
   "metadata": {},
   "source": [
    "### Refactored - 2"
   ]
  },
  {
   "cell_type": "code",
   "execution_count": 30,
   "id": "52eebe8d-97f9-4bc9-b0e9-94e798e6ba66",
   "metadata": {},
   "outputs": [
    {
     "name": "stdin",
     "output_type": "stream",
     "text": [
      "Give a string:  []\n"
     ]
    },
    {
     "name": "stdout",
     "output_type": "stream",
     "text": [
      "Balanced string\n"
     ]
    }
   ],
   "source": [
    "test = input(\"Give a string: \")\n",
    "temp_stack = []\n",
    "matching = {\n",
    "    '(':')',\n",
    "    '{':'}',\n",
    "    '[':']'\n",
    "}\n",
    "for char in test:\n",
    "    if char in matching.keys():\n",
    "        temp_stack.append(char)\n",
    "    if char in matching.values():\n",
    "        top = temp_stack.pop(-1)\n",
    "        if char != matching[top]:\n",
    "            break\n",
    "if len(temp_stack) == 0:\n",
    "    print (\"Balanced string\")\n",
    "else:\n",
    "    print(\"Unblanaced String\")"
   ]
  },
  {
   "cell_type": "code",
   "execution_count": null,
   "id": "bd8b2c9b-047d-49a9-b8c9-b8101f669248",
   "metadata": {},
   "outputs": [],
   "source": []
  }
 ],
 "metadata": {
  "kernelspec": {
   "display_name": "Python 3",
   "language": "python",
   "name": "python3"
  },
  "language_info": {
   "codemirror_mode": {
    "name": "ipython",
    "version": 3
   },
   "file_extension": ".py",
   "mimetype": "text/x-python",
   "name": "python",
   "nbconvert_exporter": "python",
   "pygments_lexer": "ipython3",
   "version": "3.8.2"
  }
 },
 "nbformat": 4,
 "nbformat_minor": 5
}
