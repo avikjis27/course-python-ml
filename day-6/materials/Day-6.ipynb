{
 "cells": [
  {
   "cell_type": "markdown",
   "id": "aa0afdc7-c1c5-42ec-a23b-81b13e6c282e",
   "metadata": {},
   "source": [
    "# Day - 6 | Python Advanced"
   ]
  },
  {
   "cell_type": "markdown",
   "id": "25cb2310-c649-4b94-8784-4cf324f02120",
   "metadata": {},
   "source": [
    "## Vectorization"
   ]
  },
  {
   "cell_type": "markdown",
   "id": "30d3dc77-77b4-48f0-b688-313ba845cc05",
   "metadata": {},
   "source": [
    "A vector is a tuple of one or more values called scalars. Vectorization is the process of converting scalar data structure to vector format.\n",
    "\n",
    "Vectorization helps to utilize modern SIMD instruction sets."
   ]
  },
  {
   "cell_type": "markdown",
   "id": "960c62b8-7580-4475-8380-20e0aa6a2f80",
   "metadata": {},
   "source": [
    "See the example https://numpy.org/doc/stable/user/whatisnumpy.html"
   ]
  },
  {
   "cell_type": "markdown",
   "id": "4af9921f-3b1e-42e6-8353-7719f29f6ba7",
   "metadata": {},
   "source": [
    "- vectorized code is more concise and easier to read\n",
    "\n",
    "- Fewer lines of code generally means fewer bugs\n",
    "\n",
    "- The code more closely resembles standard mathematical notation (making it easier, typically, to correctly code mathematical constructs)\n",
    "\n",
    "- Vectorization results in more “Pythonic” code. Without vectorization, our code would be littered with inefficient and difficult to read for loops."
   ]
  },
  {
   "cell_type": "markdown",
   "id": "5c0c546a-065d-431a-a863-327c94392b1a",
   "metadata": {},
   "source": [
    "## Introduction to numpy"
   ]
  },
  {
   "cell_type": "markdown",
   "id": "8c08a4fc-020c-40aa-9896-f81dadbe40b4",
   "metadata": {},
   "source": [
    "NumPy is the fundamental package for scientific computing in Python. It is a Python library that provides a multidimensional array object, various derived objects (such as masked arrays and matrices), and an assortment of routines for fast operations on arrays, including mathematical, logical, shape manipulation, sorting, selecting, I/O, discrete Fourier transforms, basic linear algebra, basic statistical operations, random simulation and much more."
   ]
  },
  {
   "cell_type": "markdown",
   "id": "c5af8518-4d20-428b-9adc-ebc6ccef45bf",
   "metadata": {},
   "source": [
    "At the core of the NumPy package, is the ndarray object. This encapsulates n-dimensional arrays of homogeneous data types, with many operations being performed in compiled code for performance. There are several important differences between NumPy arrays and the standard Python sequences:\n",
    "\n",
    "- NumPy arrays have a fixed size at creation, unlike Python lists (which can grow dynamically). Changing the size of an ndarray will create a new array and delete the original.\n",
    "\n",
    "- The elements in a NumPy array are all required to be of the same data type, and thus will be the same size in memory. The exception: one can have arrays of (Python, including NumPy) objects, thereby allowing for arrays of different sized elements.\n",
    "\n",
    "- NumPy arrays facilitate advanced mathematical and other types of operations on large numbers of data. Typically, such operations are executed more efficiently and with less code than is possible using Python’s built-in sequences.\n",
    "\n",
    "- A growing plethora of scientific and mathematical Python-based packages are using NumPy arrays; though these typically support Python-sequence input, they convert such input to NumPy arrays prior to processing, and they often output NumPy arrays. In other words, in order to efficiently use much (perhaps even most) of today’s scientific/mathematical Python-based software, just knowing how to use Python’s built-in sequence types is insufficient - one also needs to know how to use NumPy arrays."
   ]
  },
  {
   "cell_type": "code",
   "execution_count": 12,
   "id": "de952767-f469-4174-94eb-b64c9767ade8",
   "metadata": {},
   "outputs": [
    {
     "name": "stdout",
     "output_type": "stream",
     "text": [
      "(6,)\n",
      "(3, 4)\n"
     ]
    }
   ],
   "source": [
    "import numpy as np\n",
    "a = np.array([1, 2, 3, 4, 5, 6])\n",
    "print(a.shape)\n",
    "a = np.array([[1, 2, 3, 4], [5, 6, 7, 8], [9, 10, 11, 12]])\n",
    "print(a.shape)\n",
    "#Dimensions are axis in numpy"
   ]
  },
  {
   "cell_type": "code",
   "execution_count": 22,
   "id": "cf196f31-bcfd-4c7c-816d-c191e5536ed6",
   "metadata": {},
   "outputs": [
    {
     "name": "stdout",
     "output_type": "stream",
     "text": [
      "[1 2 3 4 5]\n",
      "[[0. 0. 0. 0.]\n",
      " [0. 0. 0. 0.]]\n",
      "[[1. 1. 1. 1.]\n",
      " [1. 1. 1. 1.]\n",
      " [1. 1. 1. 1.]\n",
      " [1. 1. 1. 1.]]\n",
      "[[ 2.5  5.   7.5 10. ]]\n",
      "[0 1 2 3 4]\n",
      "[ 0.   2.5  5.   7.5 10. ]\n",
      "[1 1]\n"
     ]
    }
   ],
   "source": [
    "import numpy as np\n",
    "\n",
    "a1 = np.array([1,2,3,4,5])\n",
    "print(a1)\n",
    "a2 = np.zeros((2,4))\n",
    "print(a2)\n",
    "a3 = np.ones((4,4))\n",
    "print(a3)\n",
    "a4 = np.empty((1,4))\n",
    "print(a4)\n",
    "a5 = np.arange(5)\n",
    "print(a5)\n",
    "a6 = np.linspace(0, 10, num=5)\n",
    "print(a6)\n",
    "a7 = np.ones(2, dtype=np.int64)\n",
    "print(a7)\n",
    "\n"
   ]
  },
  {
   "cell_type": "markdown",
   "id": "b125e515-cbc0-4f21-9a8a-9976ed0334bb",
   "metadata": {},
   "source": [
    "Check this tutorial for other operations\n",
    "https://numpy.org/doc/stable/user/absolute_beginners.html"
   ]
  }
 ],
 "metadata": {
  "kernelspec": {
   "display_name": "Python 3",
   "language": "python",
   "name": "python3"
  },
  "language_info": {
   "codemirror_mode": {
    "name": "ipython",
    "version": 3
   },
   "file_extension": ".py",
   "mimetype": "text/x-python",
   "name": "python",
   "nbconvert_exporter": "python",
   "pygments_lexer": "ipython3",
   "version": "3.8.2"
  }
 },
 "nbformat": 4,
 "nbformat_minor": 5
}
