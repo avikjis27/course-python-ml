{
 "cells": [
  {
   "cell_type": "markdown",
   "id": "aa0afdc7-c1c5-42ec-a23b-81b13e6c282e",
   "metadata": {},
   "source": [
    "# Day - 6 | Python Advanced"
   ]
  },
  {
   "cell_type": "markdown",
   "id": "8d16811b-4253-407e-8a03-41bb42a1adf2",
   "metadata": {},
   "source": [
    "## Miscellaneous"
   ]
  },
  {
   "cell_type": "markdown",
   "id": "69d1ec31-15f9-4c5d-8a09-67b61f56737e",
   "metadata": {},
   "source": [
    "### What is yield in python?"
   ]
  },
  {
   "cell_type": "markdown",
   "id": "80c32e49-4ec1-4e60-8461-4bb2c8dbebcf",
   "metadata": {},
   "source": [
    "### What is Generator in python?"
   ]
  }
 ],
 "metadata": {
  "kernelspec": {
   "display_name": "Python 3",
   "language": "python",
   "name": "python3"
  },
  "language_info": {
   "codemirror_mode": {
    "name": "ipython",
    "version": 3
   },
   "file_extension": ".py",
   "mimetype": "text/x-python",
   "name": "python",
   "nbconvert_exporter": "python",
   "pygments_lexer": "ipython3",
   "version": "3.8.2"
  }
 },
 "nbformat": 4,
 "nbformat_minor": 5
}
