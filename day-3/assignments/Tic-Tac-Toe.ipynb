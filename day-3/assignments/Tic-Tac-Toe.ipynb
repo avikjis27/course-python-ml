{
 "cells": [
  {
   "cell_type": "markdown",
   "id": "38fa6481-d558-45e9-946e-f808f257e8af",
   "metadata": {},
   "source": [
    "## Tic - Tac - Toe"
   ]
  },
  {
   "cell_type": "code",
   "execution_count": 56,
   "id": "50b713e6-4145-4a44-82dc-6c39738bd41f",
   "metadata": {},
   "outputs": [],
   "source": [
    "board = [['_','_','_'],['_','_','_'],['_','_','_']]\n",
    "your_symbol = 'O'\n",
    "system_symbol = 'X'"
   ]
  },
  {
   "cell_type": "code",
   "execution_count": 57,
   "id": "7f2d592c-f1cf-4e55-8e13-59dbdd87d9f3",
   "metadata": {},
   "outputs": [],
   "source": [
    "def displayBoard(board, isYourTurn=True, isFinal = False, winner=None):\n",
    "    print(\"Current board: \\n\")\n",
    "    print(\" | 1 | 2 | 3 |\")\n",
    "    for row_index, row in enumerate(board):\n",
    "        print (row_index+1, end='|')\n",
    "        for col_index, col in enumerate(row):\n",
    "            print (f\" {col} \", end='|')\n",
    "        print(\"\")\n",
    "    if isFinal:\n",
    "        print(f\"\\n\\n{winner} won!\") if winner != \"Draw\" else print(f\"\\n\\nGame Drawn!\")\n",
    "        return\n",
    "    if isYourTurn:\n",
    "        print(\"\\n\\nYour's Turn: \")\n",
    "    else:\n",
    "        print(\"\\nSystem's Turn: \")\n",
    "\n",
    "# displayBoard(board)"
   ]
  },
  {
   "cell_type": "code",
   "execution_count": 58,
   "id": "48202385-91a9-45dd-b7b4-bf54213c90c7",
   "metadata": {},
   "outputs": [],
   "source": [
    "def takeUserInput(board):\n",
    "    global your_symbol\n",
    "    input_string = input(\"Give row and column number(Example 1 2): \")\n",
    "    input_list = input_string.split(\" \")\n",
    "    row = int(input_list[0]) - 1\n",
    "    col = int(input_list[1]) - 1\n",
    "    if (row > 2 or col > 2 or row < 0 or col < 0):\n",
    "        print (\"Wrong input! Give again: \")\n",
    "        takeUserInput(board)\n",
    "    else:\n",
    "        board[row][col] = your_symbol  \n",
    "\n",
    "# takeUserInput(board)\n",
    "# displayBoard(board, False)"
   ]
  },
  {
   "cell_type": "code",
   "execution_count": 59,
   "id": "42f52e05-94e8-4163-977f-f51171a95dcc",
   "metadata": {},
   "outputs": [],
   "source": [
    "import random\n",
    "\n",
    "def takeSystemInput(board):\n",
    "    global system_symbol\n",
    "    while True:\n",
    "        rand_row = random.randint(0,2)\n",
    "        rand_col = random.randint(0,2)\n",
    "        if board[rand_row][rand_col] == '_':\n",
    "            board[rand_row][rand_col] = system_symbol\n",
    "            break\n",
    "\n"
   ]
  },
  {
   "cell_type": "code",
   "execution_count": 60,
   "id": "902850bc-006e-47d3-8d8c-f384fef17193",
   "metadata": {},
   "outputs": [],
   "source": [
    "def decideResult(board):\n",
    "    winner = '_'\n",
    "    for index in range(0,3):\n",
    "        if board[index][0] == board[index][1] and board[index][1] == board[index][2]:\n",
    "            winner = board[index][0]\n",
    "            return winner\n",
    "    for index in range(0,3):\n",
    "        if board[0][index] == board[1][index] and board[1][index] == board[2][index]:\n",
    "            winner = board[0][index]\n",
    "            return winner\n",
    "    \n",
    "    if board[0][0] == board[1][1] and board[1][1] == board[2][2]:\n",
    "        winner = board[0][0]\n",
    "        return winner\n",
    "    if board[0][2] == board[1][1] and board[1][1] == board[2][0]:\n",
    "        winner = board[0][2]\n",
    "        return winner\n",
    "    \n",
    "    return winner"
   ]
  },
  {
   "cell_type": "code",
   "execution_count": 62,
   "id": "e8d70e3d-2d6a-4687-8483-a1e132e3735f",
   "metadata": {},
   "outputs": [
    {
     "name": "stdout",
     "output_type": "stream",
     "text": [
      "Current board: \n",
      "\n",
      " | 1 | 2 | 3 |\n",
      "1| _ | _ | _ |\n",
      "2| _ | _ | _ |\n",
      "3| _ | _ | _ |\n",
      "\n",
      "\n",
      "Your's Turn: \n"
     ]
    },
    {
     "name": "stdin",
     "output_type": "stream",
     "text": [
      "Give row and column number(Example 1 2):  1 1\n"
     ]
    },
    {
     "name": "stdout",
     "output_type": "stream",
     "text": [
      "Current board: \n",
      "\n",
      " | 1 | 2 | 3 |\n",
      "1| O | _ | _ |\n",
      "2| _ | _ | _ |\n",
      "3| _ | _ | _ |\n",
      "\n",
      "System's Turn: \n",
      "Current board: \n",
      "\n",
      " | 1 | 2 | 3 |\n",
      "1| O | _ | _ |\n",
      "2| _ | X | _ |\n",
      "3| _ | _ | _ |\n",
      "\n",
      "\n",
      "Your's Turn: \n"
     ]
    },
    {
     "name": "stdin",
     "output_type": "stream",
     "text": [
      "Give row and column number(Example 1 2):  2 1\n"
     ]
    },
    {
     "name": "stdout",
     "output_type": "stream",
     "text": [
      "Current board: \n",
      "\n",
      " | 1 | 2 | 3 |\n",
      "1| O | _ | _ |\n",
      "2| O | X | _ |\n",
      "3| _ | _ | _ |\n",
      "\n",
      "System's Turn: \n",
      "Current board: \n",
      "\n",
      " | 1 | 2 | 3 |\n",
      "1| O | _ | _ |\n",
      "2| O | X | _ |\n",
      "3| _ | X | _ |\n",
      "\n",
      "\n",
      "Your's Turn: \n"
     ]
    },
    {
     "name": "stdin",
     "output_type": "stream",
     "text": [
      "Give row and column number(Example 1 2):  3 1\n"
     ]
    },
    {
     "name": "stdout",
     "output_type": "stream",
     "text": [
      "Current board: \n",
      "\n",
      " | 1 | 2 | 3 |\n",
      "1| O | _ | _ |\n",
      "2| O | X | _ |\n",
      "3| O | X | _ |\n",
      "\n",
      "\n",
      "You won!\n"
     ]
    }
   ],
   "source": [
    "def play(board):\n",
    "    winner = '_'\n",
    "    for index in range(0,9):\n",
    "        if index%2 == 0:\n",
    "            displayBoard(board, True)\n",
    "            takeUserInput(board)\n",
    "        else:\n",
    "            displayBoard(board, False)\n",
    "            takeSystemInput(board)\n",
    "        winner = decideResult(board)\n",
    "        if winner != '_':\n",
    "            name = 'You' if winner == 'O' else 'Computer'\n",
    "            displayBoard(board, None, True, name)\n",
    "            break\n",
    "    if winner == '_':\n",
    "        displayBoard(board, None, True, \"Draw\") "
   ]
  },
  {
   "cell_type": "code",
   "execution_count": null,
   "id": "c74cae22-e59b-46c6-a5c2-a4ed084b42cc",
   "metadata": {},
   "outputs": [],
   "source": [
    "play(board)"
   ]
  },
  {
   "cell_type": "markdown",
   "id": "ebe6df46-d0c7-469b-803b-e32801ab9d85",
   "metadata": {},
   "source": [
    "## What to improve?\n",
    "- Make the board size dynamic\n",
    "- `decideResult` need to be generic\n",
    "- More user validation required\n",
    "- Can we write unit test cases?\n"
   ]
  },
  {
   "cell_type": "code",
   "execution_count": null,
   "id": "8a1320f2-c4f4-4c0d-bfa6-b8af9e27df0b",
   "metadata": {},
   "outputs": [],
   "source": []
  }
 ],
 "metadata": {
  "kernelspec": {
   "display_name": "Python 3",
   "language": "python",
   "name": "python3"
  },
  "language_info": {
   "codemirror_mode": {
    "name": "ipython",
    "version": 3
   },
   "file_extension": ".py",
   "mimetype": "text/x-python",
   "name": "python",
   "nbconvert_exporter": "python",
   "pygments_lexer": "ipython3",
   "version": "3.8.2"
  }
 },
 "nbformat": 4,
 "nbformat_minor": 5
}
