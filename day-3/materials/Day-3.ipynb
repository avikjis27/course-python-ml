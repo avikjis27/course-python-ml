{
 "cells": [
  {
   "cell_type": "markdown",
   "id": "13e4f5fc-bc82-41e3-a4d6-2ba403f36a25",
   "metadata": {},
   "source": [
    "# Day - 3 | Python basics"
   ]
  },
  {
   "cell_type": "markdown",
   "id": "ea00f076-89ab-44f4-ad85-9879c483fb68",
   "metadata": {},
   "source": [
    "## Python internals"
   ]
  },
  {
   "cell_type": "markdown",
   "id": "f535f30e-0fa1-48d0-bae8-f4720b5e016f",
   "metadata": {},
   "source": [
    "- Write a simple program `hello.py` with content `print(\"Hello India\")`\n",
    "- Run `python hello.py`\n",
    "- Run `python -m py_compile hello.py̧` and search for `hello.pyc`\n",
    "- Run `python -m dis hello.py̧` and observe the instructions\n"
   ]
  },
  {
   "cell_type": "markdown",
   "id": "0c37b4cd-da9f-4c59-9217-4d36fe8159fe",
   "metadata": {},
   "source": [
    "## What is cpython?"
   ]
  },
  {
   "cell_type": "markdown",
   "id": "5e633198-0b81-477e-9b1b-6a92a19108d0",
   "metadata": {},
   "source": [
    "## Python Data types | Boolean"
   ]
  },
  {
   "cell_type": "code",
   "execution_count": 18,
   "id": "3a5435ff-debb-4898-b22e-c8d925f16a50",
   "metadata": {},
   "outputs": [
    {
     "name": "stdout",
     "output_type": "stream",
     "text": [
      "<class 'bool'>\n",
      "<class 'bool'>\n",
      "True <class 'bool'>\n",
      "False <class 'bool'>\n"
     ]
    }
   ],
   "source": [
    "game_over = True \n",
    "highlight_text = False\n",
    "print(type(game_over))\n",
    "print(type(highlight_text))\n",
    "x = (6==6)\n",
    "print(x, type(x))\n",
    "x = (7==6)\n",
    "print(x, type(x))"
   ]
  },
  {
   "cell_type": "markdown",
   "id": "96288f08-e257-4dc1-9f35-c40f35b1897f",
   "metadata": {},
   "source": [
    "### Short-circuiting"
   ]
  },
  {
   "cell_type": "code",
   "execution_count": 19,
   "id": "70acb646-4753-46f9-a1bf-707e469a7a71",
   "metadata": {},
   "outputs": [
    {
     "name": "stdout",
     "output_type": "stream",
     "text": [
      "breeze\n"
     ]
    }
   ],
   "source": [
    "# words=[\"breeze\", \"grim\", \"mongoose\", \"bonanza\"]\n",
    "# for w in words: \n",
    "#     if w[4]=='z':\n",
    "#         print(w)\n",
    "\n",
    "## Short circuit logic\n",
    "for w in words: \n",
    "    if len(w)>=5 and w[4]=='z':\n",
    "        print(w)\n",
    "\n"
   ]
  },
  {
   "cell_type": "markdown",
   "id": "2f4d82f1-c232-448b-9c46-57cfa33c14d2",
   "metadata": {},
   "source": [
    "## Python Data types | List"
   ]
  },
  {
   "cell_type": "markdown",
   "id": "b8e6793b-ed67-4a3a-b976-bf78591c5a8d",
   "metadata": {},
   "source": [
    "Say we need to get thirty test scores from a user and do something with them, like put them in order. We could create thirty variables, score1, score2, ..., score30, but that would be very tedious. To then put the scores in order would be extremely difficult, and if number of items are not known ahead of time then it is not feasible to declare same number of variables before hand. The solution is to use lists. "
   ]
  },
  {
   "cell_type": "code",
   "execution_count": 39,
   "id": "7d9d4bfc-a7e6-4eee-8d15-c5d78f6f2395",
   "metadata": {},
   "outputs": [
    {
     "name": "stdout",
     "output_type": "stream",
     "text": [
      "[10, 30, 20]\n",
      "Number of items 3\n"
     ]
    }
   ],
   "source": [
    "items = []\n",
    "items.append(10)\n",
    "items.append(30)\n",
    "items.append(20)\n",
    "print(items)\n",
    "print(\"Number of items\", len(items))"
   ]
  },
  {
   "cell_type": "markdown",
   "id": "4e80b67c-a9cf-485b-91c9-7b3e6082cd89",
   "metadata": {},
   "source": [
    "### List of lists"
   ]
  },
  {
   "cell_type": "code",
   "execution_count": 40,
   "id": "f993285e-f8d6-40d3-a3ca-92571579dddf",
   "metadata": {},
   "outputs": [
    {
     "name": "stdout",
     "output_type": "stream",
     "text": [
      "Items: [10, 20, 30, [40, 50, 60]], Size: 4\n"
     ]
    }
   ],
   "source": [
    "items = [10, 20 , 30, [40, 50, 60]]\n",
    "print(f\"Items: {items}, Size: {len(items)}\")"
   ]
  },
  {
   "cell_type": "markdown",
   "id": "1c5b84e9-683d-4217-a2f0-ce95684e0b74",
   "metadata": {},
   "source": [
    "### List of heterogeneous items"
   ]
  },
  {
   "cell_type": "code",
   "execution_count": 42,
   "id": "0b5c92a3-37f3-43dc-b9a4-cf6d68268bf2",
   "metadata": {},
   "outputs": [
    {
     "name": "stdout",
     "output_type": "stream",
     "text": [
      "['abc', 10, 10.9, True, [30, 40]]\n",
      "item: abc, type: <class 'str'>\n",
      "item: 10, type: <class 'int'>\n",
      "item: 10.9, type: <class 'float'>\n",
      "item: True, type: <class 'bool'>\n",
      "item: [30, 40], type: <class 'list'>\n"
     ]
    }
   ],
   "source": [
    "items = [ \"abc\", 10, 10.9, True, [30, 40]]\n",
    "print(items)\n",
    "for item in items:\n",
    "    print(f\"item: {item}, type: {type(item)}\")"
   ]
  },
  {
   "cell_type": "markdown",
   "id": "89276e92-7d79-4fc8-a765-c2a99e5684e9",
   "metadata": {},
   "source": [
    "### List operations"
   ]
  },
  {
   "cell_type": "code",
   "execution_count": 48,
   "id": "0366c014-4289-44d4-94ef-996a7c7cf36f",
   "metadata": {},
   "outputs": [
    {
     "name": "stdout",
     "output_type": "stream",
     "text": [
      "[10, 20, 30, 40, 50, 60]\n",
      "[10, 20, 30, 10, 20, 30]\n",
      "[10, 10, 20, 20, 30, 30]\n"
     ]
    }
   ],
   "source": [
    "items1 = [10, 20, 30]\n",
    "items2 = [40, 50, 60]\n",
    "all_items = items1 + items2\n",
    "print(all_items)\n",
    "repeated_items = items1 * 2\n",
    "print(repeated_items)\n",
    "repeated_items.sort()\n",
    "print(repeated_items)\n",
    "## Remember list methods change the original list"
   ]
  },
  {
   "cell_type": "markdown",
   "id": "73d555a3-7bf4-4a3d-b7e8-acc094288c52",
   "metadata": {},
   "source": [
    "### List and Random module"
   ]
  },
  {
   "cell_type": "markdown",
   "id": "7cdd7c41-20ec-4ab2-bac4-8b4771ffe2aa",
   "metadata": {},
   "source": [
    "|Function| Description|\n",
    "---------|------------\n",
    "|choice(L)| picks a random item from L|\n",
    "|sample(L,n)| picks a group of n random items from L|\n",
    "|shuffle(L) |Shuffles the items of L|"
   ]
  },
  {
   "cell_type": "code",
   "execution_count": 58,
   "id": "56b04ce9-2bd7-418c-8eb5-4e4ffde9e26d",
   "metadata": {},
   "outputs": [
    {
     "name": "stdout",
     "output_type": "stream",
     "text": [
      "[8, 2, 4, 6, 3, 1, 5, 7]\n",
      "[4, 1, 2]\n",
      "1\n"
     ]
    }
   ],
   "source": [
    "from random import shuffle, sample, choice\n",
    "items = [1,2,3,4,5,6,7,8]\n",
    "shuffle(items)\n",
    "print(items)\n",
    "rand_items = sample(items,3)\n",
    "print(rand_items)\n",
    "print(choice(items))"
   ]
  },
  {
   "cell_type": "markdown",
   "id": "6d02d07b-8b7d-407b-ac03-3189cd47d0f7",
   "metadata": {},
   "source": [
    "### Join and split"
   ]
  },
  {
   "cell_type": "code",
   "execution_count": 61,
   "id": "591ed488-26a7-4eff-9dc4-7e43d5feb799",
   "metadata": {},
   "outputs": [
    {
     "name": "stdout",
     "output_type": "stream",
     "text": [
      "a b c\n",
      "a**b**c\n",
      "['a', 'b', 'c', 'd']\n"
     ]
    }
   ],
   "source": [
    "items = [\"a\", \"b\", \"c\"]\n",
    "print(\" \".join(items))\n",
    "print(\"**\".join(items))\n",
    "\n",
    "string = \"a,b,c,d\"\n",
    "print(string.split(\",\"))"
   ]
  },
  {
   "cell_type": "markdown",
   "id": "c440c511-32fe-4bfc-9eb3-0ba1b822d5c7",
   "metadata": {},
   "source": [
    "## Python Data types | Tuple and Set"
   ]
  },
  {
   "cell_type": "code",
   "execution_count": 64,
   "id": "ca18c531-89d7-4b8f-9249-b4db83ef8849",
   "metadata": {},
   "outputs": [
    {
     "name": "stdout",
     "output_type": "stream",
     "text": [
      "<class 'tuple'>\n",
      "(1, 2, 3)\n"
     ]
    }
   ],
   "source": [
    "# Tuple is an immutable list\n",
    "t = (1,2,3)\n",
    "print(type(t))\n",
    "items = [1, 2, 3]\n",
    "t = tuple(items)\n",
    "print(t)"
   ]
  },
  {
   "cell_type": "markdown",
   "id": "f5812dfe-5604-4082-b1c9-f88714b796f4",
   "metadata": {},
   "source": [
    "### Swap example"
   ]
  },
  {
   "cell_type": "code",
   "execution_count": 65,
   "id": "3b031673-c4ef-4ee9-a1a1-6c6bc06cb402",
   "metadata": {},
   "outputs": [
    {
     "name": "stdout",
     "output_type": "stream",
     "text": [
      "a:6, b:5\n"
     ]
    }
   ],
   "source": [
    "a = 5\n",
    "b = 6\n",
    "a,b = b,a\n",
    "print (f\"a:{a}, b:{b}\")"
   ]
  },
  {
   "cell_type": "markdown",
   "id": "0f22cbb5-5418-4a9c-9f6b-1bc9555281a1",
   "metadata": {},
   "source": [
    "Python has a data type called a set. Sets work like mathematical sets. They are a lot like lists with no repeats. Sets are denoted by curly braces"
   ]
  },
  {
   "cell_type": "code",
   "execution_count": 68,
   "id": "a55b24a0-c506-41c4-8d14-a9356b366292",
   "metadata": {},
   "outputs": [
    {
     "name": "stdout",
     "output_type": "stream",
     "text": [
      "<class 'set'>\n",
      "{1, 2, 3, 4}\n"
     ]
    }
   ],
   "source": [
    "s = {1, 2, 3, 4, 2}\n",
    "print(type(s))\n",
    "print(s)"
   ]
  },
  {
   "cell_type": "markdown",
   "id": "1f21c47a-94ad-4d0a-ac4d-de12399d6e35",
   "metadata": {},
   "source": [
    "### Set operations"
   ]
  },
  {
   "cell_type": "markdown",
   "id": "bd06fbfa-c73b-4f8b-acf7-362679bbf3ca",
   "metadata": {},
   "source": [
    "|Operator| Description| Example|\n",
    "|--------|------------|--------|\n",
    "|\\| |union |{1,2,3}  {3,4} → {1,2,3,4}|\n",
    "|& |intersection |{1,2,3} & {3,4} → {3}|\n",
    "|- | difference |{1,2,3} - {3,4} → {1,2}|\n",
    "|^ | symmetric difference |{1,2,3} ^ {3,4} → {1,2,4}|\n",
    "|in| is an element of| 3 in {1,2,3} → True"
   ]
  },
  {
   "cell_type": "markdown",
   "id": "abe0eba0-f45a-40d2-86a9-a0622e7cee6f",
   "metadata": {},
   "source": [
    "## Python Data types | Dictionary"
   ]
  },
  {
   "cell_type": "markdown",
   "id": "ecda706f-0058-419c-a341-b7b298e6c477",
   "metadata": {},
   "source": [
    "Dictionaries in Python are lists of Key:Value pairs. This is a very powerful datatype to hold a lot of related information that can be associated through keys. The main operation of a dictionary is to extract a value based on the key name. Unlike lists, where index numbers are used, dictionaries allow the use of a key to access its members. Dictionaries can also be used to sort, iterate and compare data.\n",
    "\n",
    "Dictionaries are created by using braces ({}) with pairs separated by a comma (,) and the key values associated with a colon(:). In Dictionaries the Key must be unique. Here is a quick example on how dictionaries might be used:"
   ]
  },
  {
   "cell_type": "code",
   "execution_count": 20,
   "id": "4075ecf0-ca1c-4440-beff-e0d6887adff8",
   "metadata": {},
   "outputs": [
    {
     "name": "stdout",
     "output_type": "stream",
     "text": [
      "212\n",
      "dict_keys(['mohan', 'teja', 'isaac'])\n",
      "True\n"
     ]
    }
   ],
   "source": [
    "room_num = {'mohan': 425, 'teja': 212}\n",
    "room_num['mohan'] = 645  # set the value associated with the 'john' key to 645\n",
    "print (room_num['teja']) # print the value of the 'tom' key.\n",
    "room_num['isaac'] = 345 # Add a new key 'isaac' with the associated value\n",
    "print (room_num.keys()) # print out a list of keys in the dictionary\n",
    "print ('isaac' in room_num) # test to see if 'issac' is in the dictionary.  This returns true.\n",
    "#. Guess output => print (len(room_num))\n",
    "another_room = {'avik': 122}"
   ]
  },
  {
   "cell_type": "markdown",
   "id": "c648412f-cd8e-4c12-9249-693d2af1c00e",
   "metadata": {},
   "source": [
    "### Operations on dictionary"
   ]
  },
  {
   "cell_type": "code",
   "execution_count": 33,
   "id": "9ae7f7be-7893-410a-9f67-76f16606e635",
   "metadata": {},
   "outputs": [
    {
     "name": "stdout",
     "output_type": "stream",
     "text": [
      "{'mango': 200, 'rice': 250}\n",
      "Add item: chicken\n",
      "{'mango': 200, 'rice': 250, 'chicken': 300}\n",
      "Delete item: rice, method 1\n",
      "{'mango': 200, 'chicken': 300}\n",
      "Delete item: chicken, method 2\n",
      "Dictionary: {'mango': 200}, Item Popped: 300\n",
      "Get an item value\n",
      "Calorie of mango: 200\n",
      "Copy of a dictionary\n",
      "copy_of_calorie_chart {'mango': 200}\n",
      "id of: calorie_chart: 4335254592\n",
      "id of: copy_of_calorie_chart: 4332878336\n",
      "Duplicate key in a dictionary\n",
      "{'mango': '1000'}\n"
     ]
    }
   ],
   "source": [
    "calorie_chart = {}\n",
    "calorie_chart = {'mango':200, 'rice': 250}\n",
    "print(calorie_chart)\n",
    "\n",
    "print (\"Add item: chicken\")\n",
    "calorie_chart['chicken'] = 300\n",
    "print(calorie_chart)\n",
    "\n",
    "print(\"Delete item: rice, method 1\")\n",
    "del calorie_chart['rice']\n",
    "print(calorie_chart)\n",
    "\n",
    "print(\"Delete item: chicken, method 2\")\n",
    "popped_item = calorie_chart.pop('chicken')\n",
    "print(f\"Dictionary: {calorie_chart}, Item Popped: {popped_item}\")\n",
    "\n",
    "print(\"Get an item value\")\n",
    "calorie_of_mango = calorie_chart['mango']\n",
    "print(f\"Calorie of mango: {calorie_of_mango}\")\n",
    "\n",
    "print(\"Copy of a dictionary\")\n",
    "copy_of_calorie_chart = calorie_chart.copy()\n",
    "print(\"copy_of_calorie_chart\", copy_of_calorie_chart)\n",
    "print(f\"id of: calorie_chart: {id(calorie_chart)}\")\n",
    "print(f\"id of: copy_of_calorie_chart: {id(copy_of_calorie_chart)}\")\n",
    "\n",
    "print(\"Duplicate key in a dictionary\")\n",
    "copy_of_calorie_chart['mango'] = \"1000\"\n",
    "print (copy_of_calorie_chart)\n"
   ]
  },
  {
   "cell_type": "markdown",
   "id": "759d7af5-adac-408f-b4f6-87fd51577207",
   "metadata": {},
   "source": [
    "### Iterating Dictionary"
   ]
  },
  {
   "cell_type": "code",
   "execution_count": 27,
   "id": "5e2107e0-3ee3-454b-967a-9827a9109e13",
   "metadata": {},
   "outputs": [
    {
     "name": "stdout",
     "output_type": "stream",
     "text": [
      "mango:200\n",
      "rice:250\n",
      "chicken:300\n",
      "mango:200\n",
      "rice:250\n",
      "chicken:300\n"
     ]
    }
   ],
   "source": [
    "calorie_dict = {'mango': 200, 'rice': 250, 'chicken': 300}\n",
    "keys = calorie_dict.keys()\n",
    "for key in keys:\n",
    "    print(f\"{key}:{calorie_dict[key]}\")\n",
    "    \n",
    "# Short hand\n",
    "for key in calorie_dict:\n",
    "    print(f\"{key}:{calorie_dict[key]}\")\n"
   ]
  },
  {
   "cell_type": "markdown",
   "id": "5793a5f6-b9b2-4ce6-8d98-0b4de0c4a123",
   "metadata": {},
   "source": [
    "### Find a key in dict"
   ]
  },
  {
   "cell_type": "code",
   "execution_count": 26,
   "id": "212648a0-d880-4c1b-a9f0-9e57816b7eeb",
   "metadata": {},
   "outputs": [
    {
     "name": "stdout",
     "output_type": "stream",
     "text": [
      "Eat mango\n"
     ]
    }
   ],
   "source": [
    "if 'mango' in calorie_dict:\n",
    "    print(\"Eat mango\")\n",
    "else:\n",
    "    print(\"Do not eat mango\")"
   ]
  },
  {
   "cell_type": "markdown",
   "id": "75a9daa3-a8c8-4791-97f9-4a9bf215fb0f",
   "metadata": {},
   "source": [
    "### Dynamically create dictionary"
   ]
  },
  {
   "cell_type": "code",
   "execution_count": 34,
   "id": "e4a8c72b-a110-46da-b879-11f50bc189d9",
   "metadata": {},
   "outputs": [
    {
     "name": "stdin",
     "output_type": "stream",
     "text": [
      "Enter a new item:  mango\n",
      "Enter price:  10\n"
     ]
    },
    {
     "name": "stdout",
     "output_type": "stream",
     "text": [
      "Have more items? [y|n]: \n"
     ]
    },
    {
     "name": "stdin",
     "output_type": "stream",
     "text": [
      " n\n"
     ]
    },
    {
     "name": "stdout",
     "output_type": "stream",
     "text": [
      "Items in the list are: {'mango': 10}\n"
     ]
    }
   ],
   "source": [
    "item_lists = {}\n",
    "while True:\n",
    "    item_name = input(\"Enter a new item: \")\n",
    "    item_price = eval(input(\"Enter price: \"))\n",
    "    if item_name in item_lists:\n",
    "        print(f\"Item already added with price: {item_lists[item_name]}\")\n",
    "        continue\n",
    "    else:\n",
    "        item_lists[item_name] = item_price\n",
    "    print(\"Have more items? [y|n]: \")\n",
    "    do_break = input()\n",
    "    if do_break != 'y':\n",
    "        break\n",
    "\n",
    "print(f\"Items in the list are: {item_lists}\")\n",
    "    "
   ]
  },
  {
   "cell_type": "markdown",
   "id": "aa8f7231-4060-458d-8953-113d5d7d0dab",
   "metadata": {},
   "source": [
    "## Python functions"
   ]
  },
  {
   "cell_type": "code",
   "execution_count": 72,
   "id": "695528ef-2aeb-4edb-96fb-474442d33628",
   "metadata": {},
   "outputs": [
    {
     "name": "stdout",
     "output_type": "stream",
     "text": [
      "Hello India\n",
      "<class 'function'>\n"
     ]
    }
   ],
   "source": [
    "def print_hello():\n",
    "    print(\"Hello India\")\n",
    "    \n",
    "print_hello()\n",
    "print(type(print_hello))"
   ]
  },
  {
   "cell_type": "markdown",
   "id": "d9d81108-2349-4b46-8e91-309d183a5952",
   "metadata": {},
   "source": [
    "### Default arguments and keyword arguments"
   ]
  },
  {
   "cell_type": "code",
   "execution_count": 89,
   "id": "18105a49-45a4-4817-b041-6e3186992b7f",
   "metadata": {},
   "outputs": [
    {
     "name": "stdout",
     "output_type": "stream",
     "text": [
      "\n",
      "HelloHelloHelloHelloHello\n",
      "Hello\n"
     ]
    }
   ],
   "source": [
    "def multiple_print(string, n=1):\n",
    "    print(string * n)\n",
    "print()\n",
    "multiple_print('Hello', 5) \n",
    "multiple_print('Hello')"
   ]
  },
  {
   "cell_type": "code",
   "execution_count": 91,
   "id": "29b11ad8-8bcd-4149-86f8-f4636c9ddba3",
   "metadata": {},
   "outputs": [
    {
     "name": "stdout",
     "output_type": "stream",
     "text": [
      "text:Hi, color:black, background:white, style:bold, justify:left\n",
      "text:Hi, color:yellow, background:black, style:normal, justify:left\n",
      "text:Hi, color:yellow, background:black, style:normal, justify:left\n",
      "text:Hi, color:black, background:white, style:normal, justify:left\n"
     ]
    }
   ],
   "source": [
    "def fancy_print(text, color='black', background='white', style='normal', justify='left'):\n",
    "    print(f\"text:{text}, color:{color}, background:{background}, style:{style}, justify:{justify}\")\n",
    "fancy_print('Hi', style='bold')\n",
    "fancy_print('Hi', color='yellow', background='black') \n",
    "fancy_print('Hi', background='black', color='yellow') \n",
    "fancy_print('Hi')"
   ]
  },
  {
   "cell_type": "markdown",
   "id": "8a08fc77-4bb6-4cf3-8f2b-284097a7f796",
   "metadata": {},
   "source": [
    "### Local vs Global"
   ]
  },
  {
   "cell_type": "code",
   "execution_count": 92,
   "id": "7b4ab715-06fe-4e37-a8d4-987bfeec03f0",
   "metadata": {},
   "outputs": [
    {
     "name": "stdout",
     "output_type": "stream",
     "text": [
      "30\n",
      "0\n"
     ]
    }
   ],
   "source": [
    "def reset():\n",
    "    global time_left \n",
    "    time_left = 0\n",
    "def print_time(): \n",
    "    print(time_left)\n",
    "time_left=30\n",
    "print_time()\n",
    "reset()\n",
    "print_time()"
   ]
  },
  {
   "cell_type": "markdown",
   "id": "656691ac-b6c8-4c88-8817-c1ed9b5551fd",
   "metadata": {},
   "source": [
    "### Python functions are objects\n",
    "That means:\n",
    "- have types\n",
    "- can be sent as arguments to another function\n",
    "- can be used in expression\n",
    "- can become part of various data structures like dictionaries"
   ]
  },
  {
   "cell_type": "markdown",
   "id": "b84d5cb5-741e-4dcb-9f6f-d87e91fa2b7e",
   "metadata": {},
   "source": [
    "### Passing function as parameter"
   ]
  },
  {
   "cell_type": "code",
   "execution_count": 74,
   "id": "d0832786-271a-49da-9e47-2e45838a00bf",
   "metadata": {},
   "outputs": [
    {
     "name": "stdout",
     "output_type": "stream",
     "text": [
      "*******Hello India********\n",
      "-------Hello India-------\n"
     ]
    }
   ],
   "source": [
    "def star_format_message(message):\n",
    "    return f\"*******{message}********\"\n",
    "def dash_format_message(message):\n",
    "    return f\"-------{message}-------\"\n",
    "    \n",
    "def show_banner(formatter, message):\n",
    "    print(formatter(message))\n",
    "    \n",
    "show_banner(star_format_message, \"Hello India\")\n",
    "show_banner(dash_format_message, \"Hello India\")"
   ]
  },
  {
   "cell_type": "markdown",
   "id": "3c8bace2-dc89-44da-8cae-be1e4094b58a",
   "metadata": {},
   "source": [
    "### Function returning a function"
   ]
  },
  {
   "cell_type": "code",
   "execution_count": 87,
   "id": "2fbee139-c12c-4c3b-a633-b25f21797fa4",
   "metadata": {},
   "outputs": [
    {
     "name": "stdout",
     "output_type": "stream",
     "text": [
      "<class 'function'>\n",
      "Hello India\n"
     ]
    }
   ],
   "source": [
    "def high_level_function(country):\n",
    "    def say_hello():\n",
    "        print(f\"Hello {country}\")\n",
    "    return say_hello\n",
    "\n",
    "print(type(high_level_function(\"India\")))\n",
    "high_level_function(\"India\")()"
   ]
  },
  {
   "cell_type": "markdown",
   "id": "54f6b9b3-3660-403e-a6cb-43ed7188e100",
   "metadata": {},
   "source": [
    "### Putting functions in list"
   ]
  },
  {
   "cell_type": "code",
   "execution_count": 88,
   "id": "86c6f09e-72ab-40de-ba45-3cf0e65d67a7",
   "metadata": {},
   "outputs": [
    {
     "name": "stdout",
     "output_type": "stream",
     "text": [
      "It is func1\n",
      "It is func2\n",
      "It is func3\n"
     ]
    }
   ],
   "source": [
    "def func1():\n",
    "    return \"It is func1\"\n",
    "\n",
    "def func2():\n",
    "    return \"It is func2\"\n",
    "\n",
    "def func3():\n",
    "    return \"It is func3\"\n",
    "\n",
    "functions = [func1, func2, func3]\n",
    "for func in functions:\n",
    "    print(func())"
   ]
  },
  {
   "cell_type": "code",
   "execution_count": null,
   "id": "472b3387-bdcb-4ad9-9518-67b8d619e466",
   "metadata": {},
   "outputs": [],
   "source": []
  }
 ],
 "metadata": {
  "kernelspec": {
   "display_name": "Python 3",
   "language": "python",
   "name": "python3"
  },
  "language_info": {
   "codemirror_mode": {
    "name": "ipython",
    "version": 3
   },
   "file_extension": ".py",
   "mimetype": "text/x-python",
   "name": "python",
   "nbconvert_exporter": "python",
   "pygments_lexer": "ipython3",
   "version": "3.8.2"
  }
 },
 "nbformat": 4,
 "nbformat_minor": 5
}
