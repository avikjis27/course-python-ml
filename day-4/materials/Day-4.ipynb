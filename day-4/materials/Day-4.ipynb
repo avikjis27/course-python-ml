{
 "cells": [
  {
   "cell_type": "markdown",
   "id": "13e4f5fc-bc82-41e3-a4d6-2ba403f36a25",
   "metadata": {},
   "source": [
    "# Day - 4 | Python Advanced"
   ]
  },
  {
   "cell_type": "markdown",
   "id": "5e633198-0b81-477e-9b1b-6a92a19108d0",
   "metadata": {},
   "source": [
    "## Object Orientation"
   ]
  },
  {
   "cell_type": "markdown",
   "id": "9beb02b4-fa3f-4109-b27f-41795ffd1592",
   "metadata": {},
   "source": [
    "### What is a paradigm?\n",
    "In science and philosophy, a paradigm is a distinct set of concepts or thought patterns, including theories, research methods, postulates, and standards for what constitutes legitimate contributions to a field.[wiki](https://en.wikipedia.org/wiki/Paradigm)\n",
    "\n",
    "### What is programing paradigm?\n",
    "Programming paradigms are a way to classify programming languages based on their features available <b>out of the box</b>. Languages can be classified into multiple paradigms. [wiki](https://en.wikipedia.org/wiki/Programming_paradigm)\n",
    "\n",
    "#### imperative (Defines HOW)\n",
    "In which the programmer instructs the machine how to change its state.\n",
    "- procedural: which groups instructions into procedures (ie. C)\n",
    "- object-oriented: which groups instructions with the part of the state they operate on (ie. Python, Java)\n",
    "\n",
    "#### declarative (Defines WHAT)\n",
    "In which the programmer merely declares properties of the desired result, but not how to compute it\n",
    "- functional: in which the desired result is declared as the value of a series of function applications (ie. Python, Java, Haskel, Erlang)\n",
    "- logic: in which the desired result is declared as the answer to a question about a system of facts and rules (LISP)\n",
    "- mathematical: in which the desired result is declared as the solution of an optimization problem (SciPy, Matlab toolbox etc)\n",
    "- reactive: in which the desired result is declared with data streams and the propagation of change (RxJS)\n",
    "\n",
    "\n",
    "It is clear from the above discussion that a language may or may not supports a particular paradigm and it may support multiple paradigms too like python being OO language also supports functional style programing. More over one language doesn't support a paradigm means it (the language) wont provide tools to its users (we the application programmer) for that paradigm 'out of the box'. There may be a tricky unconventional path which could be used to realize another paradigm but that doesn't count.\n",
    "\n",
    "### Object oriented paradigm\n",
    "Object-oriented programming (OOP) is a programming paradigm based on the concept of \"objects\", which can contain data and code: data in the form of fields (often known as attributes or properties), and code, in the form of procedures (often known as methods). [wiki](https://en.wikipedia.org/wiki/Object-oriented_programming). Theme of OO programming are - \n",
    " - Reusability\n",
    " - Extensibility\n",
    " - Security\n",
    "And below we discussed the OO practice we should follow the implement those themes\n",
    "\n",
    "#### Encapsulation\n",
    "Encapsulation is an object-oriented programming concept that binds together the data and functions that manipulate the data, and that keeps both safe from outside interference and misuse. Data encapsulation led to the important OOP concept of data hiding.\n",
    "\n",
    "#### Abstraction\n",
    "Hiding internal details and showing functionality is known as abstraction. \n",
    "\n",
    "#### Polymorphism\n",
    "If one task is performed in different ways, it is known as polymorphism.\n",
    "\n",
    "#### Inheritance\n",
    "When one object acquires all the properties and behaviors of a parent object, it is known as inheritance. It provides code reusability. It is used to achieve runtime polymorphism.\n",
    "\n"
   ]
  },
  {
   "cell_type": "markdown",
   "id": "2f4d82f1-c232-448b-9c46-57cfa33c14d2",
   "metadata": {},
   "source": [
    "## Object oriented programing in python"
   ]
  },
  {
   "cell_type": "markdown",
   "id": "a3c1dede-80c3-40dc-ae88-1a2a7967ca35",
   "metadata": {},
   "source": [
    "Python is an object-oriented programming language, and we have in fact been using many object- oriented concepts already. The key notion is that of an object. An object consists of two things: data and functions (called methods) that work with that data. As an example, strings in Python are objects. The data of the string object is the actual characters that make up that string. The methods are things like lower, replace, and split. In Python, everything is an object. That includes not only strings and lists, but also integers, floats, and even functions themselves.\n"
   ]
  },
  {
   "cell_type": "markdown",
   "id": "4294f0a1-1d71-4626-9a97-276c68f1b9c2",
   "metadata": {},
   "source": [
    "### Class"
   ]
  },
  {
   "cell_type": "code",
   "execution_count": null,
   "id": "e436f7e3-2b2f-4a42-bb7a-17b29a5a4d1e",
   "metadata": {},
   "outputs": [],
   "source": [
    "class Example:\n",
    "    def __init__(self, a, b): # Constructor # self referes to the object itself\n",
    "        self.a = a # Fields\n",
    "        self.b = b # Fields\n",
    "    def __add__(self): # Methods\n",
    "        return self.a + self.b\n",
    "\n",
    "e = Example(8, 6) # Object creation\n",
    "print(e.__add__()) # Method invocation\n",
    "print(e.a) # Access fields"
   ]
  },
  {
   "cell_type": "code",
   "execution_count": null,
   "id": "90676296-dc93-4730-8ee0-ea994f3c871f",
   "metadata": {},
   "outputs": [],
   "source": [
    "class Happy:\n",
    "    def beHappy(self):\n",
    "        print(type(self))\n",
    "        print(\"I am happy\")\n",
    "\n",
    "h = Happy()\n",
    "h.beHappy()"
   ]
  },
  {
   "cell_type": "markdown",
   "id": "5dc3d784-0273-4dac-b862-ef2f54d3eb13",
   "metadata": {},
   "source": [
    "object-oriented programming languages have a notion of public and private variables, public variables being those that anyone can access and change, and private variables being only accessible to methods within the class. In Python all variables are public, and it is up to the programmer to be responsible with them. There is a convention where you name those variables that you want to be private with a starting underscore, like _var1. This serves to let others know that this variable is internal to the class and shouldn’t be touched."
   ]
  },
  {
   "cell_type": "markdown",
   "id": "edf8c765-b590-4974-b808-864900abfee2",
   "metadata": {},
   "source": [
    "### Inheritance"
   ]
  },
  {
   "cell_type": "code",
   "execution_count": null,
   "id": "b0328ab0-cad8-4267-8148-e65efcce6a65",
   "metadata": {},
   "outputs": [],
   "source": [
    "class Parent:\n",
    "    def __init__(self, a):\n",
    "        self.a = a\n",
    "    def method1(self):\n",
    "        return self.a*2 \n",
    "    def method2(self):\n",
    "        return self.a+'!!!'\n",
    "\n",
    "class Child(Parent): # Inheritance\n",
    "    def __init__(self, a, b):\n",
    "        self.a = a\n",
    "        self.b = b\n",
    "    def method1(self): ## Overriding\n",
    "        return self.a*7 \n",
    "    def method3(self):\n",
    "        return self.a + self.b \n",
    "\n",
    "parent = Parent('hi')\n",
    "child = Child('hi', 'bye')\n",
    "print('Parent method 1: ', parent.method1()) \n",
    "print('Parent method 2: ', parent.method2()) \n",
    "print()\n",
    "print('Child method 1: ', child.method1()) \n",
    "print('Child method 2: ', child.method2()) \n",
    "print('Child method 3: ', child.method3())"
   ]
  },
  {
   "cell_type": "markdown",
   "id": "9b6857ad-fadf-4477-bde7-6c0862c19076",
   "metadata": {},
   "source": [
    "### Diamond problem"
   ]
  },
  {
   "cell_type": "markdown",
   "id": "cc5abe56-4ef0-4016-8951-9b531be34016",
   "metadata": {},
   "source": [
    "                Class 1\n",
    "                   |\n",
    "         ---------------------\n",
    "         |                   |\n",
    "       Class 2             Class 3\n",
    "         |                   |\n",
    "         ---------------------\n",
    "                   |\n",
    "                Class 4"
   ]
  },
  {
   "cell_type": "code",
   "execution_count": null,
   "id": "7843acb1-34f2-4ca0-ad03-bc4f3110946f",
   "metadata": {},
   "outputs": [],
   "source": [
    "class Class1:\n",
    "    def print_message(self):\n",
    "        print(\"Hello from Class 1\")\n",
    "class Class2(Class1):\n",
    "    def print_message(self):\n",
    "        print(\"Hello from Class 2\")\n",
    "class Class3(Class1):\n",
    "    def print_message(self):\n",
    "        print(\"Hello from Class 3\")\n",
    "class Class4(Class3, Class2):\n",
    "    pass\n",
    "        \n",
    "c4 = Class4();\n",
    "help (c4)\n",
    "c4.print_message()\n",
    "\n",
    "## Observe the method resolution order (MRO): \n",
    "## depth first and then left to right python < 2.3 (DFLR)\n",
    "## c3 linearlization python >= 2.3 "
   ]
  },
  {
   "cell_type": "markdown",
   "id": "7445cbaf-bc6d-477d-9254-f1f84d590aec",
   "metadata": {},
   "source": [
    "### Ambiguous MRO\n",
    "https://www.python.org/download/releases/2.3/mro/"
   ]
  },
  {
   "cell_type": "code",
   "execution_count": null,
   "id": "e4513af8-8398-431d-891b-2b2b52c8c098",
   "metadata": {},
   "outputs": [],
   "source": [
    "class Class1:\n",
    "    def print_message(self):\n",
    "        print(\"Hello from Class 1\")\n",
    "class Class2(Class1):\n",
    "    def print_message(self):\n",
    "        print(\"Hello from Class 2\")\n",
    "class Class3(Class1):\n",
    "    def print_message(self):\n",
    "        print(\"Hello from Class 3\")\n",
    "class Class4(Class2, Class3):\n",
    "    pass\n",
    "class Class5(Class3, Class2):\n",
    "    pass\n",
    "class Class6(Class4, Class5):\n",
    "    pass\n",
    "        \n",
    "c6 = Class6();\n",
    "help (c6)\n",
    "c6.print_message()"
   ]
  },
  {
   "cell_type": "markdown",
   "id": "a67e2c03-7505-4cc1-8a38-cb0d9662b99d",
   "metadata": {},
   "source": [
    "### Understand C3 Linearization"
   ]
  },
  {
   "cell_type": "code",
   "execution_count": null,
   "id": "16158b06-cd26-4616-a7bf-dec846f7f6e3",
   "metadata": {},
   "outputs": [],
   "source": [
    "class O: pass\n",
    "class F(O):pass\n",
    "class E(O):pass\n",
    "class D(O):pass\n",
    "class C(F,D):pass\n",
    "class B(E,D):pass\n",
    "class A(C,B):pass\n",
    "a = A()\n",
    "help(a)\n",
    "\n",
    "##ACFBEDO"
   ]
  },
  {
   "cell_type": "markdown",
   "id": "fcc1b938-9a56-4bfb-8f93-0251ab36eb3d",
   "metadata": {},
   "source": [
    "### God object"
   ]
  },
  {
   "cell_type": "code",
   "execution_count": null,
   "id": "8b0e502c-00d7-49b9-b4f8-eabf682294da",
   "metadata": {},
   "outputs": [],
   "source": [
    "o = object()\n",
    "help(o)"
   ]
  },
  {
   "cell_type": "markdown",
   "id": "c440c511-32fe-4bfc-9eb3-0ba1b822d5c7",
   "metadata": {},
   "source": [
    "## Miscellaneous"
   ]
  },
  {
   "cell_type": "markdown",
   "id": "7221a729-3a44-4899-867f-9fb6f270a0d0",
   "metadata": {},
   "source": [
    "### How to make an object iterable?\n",
    "https://docs.python.org/3/tutorial/classes.html#iterators"
   ]
  },
  {
   "cell_type": "code",
   "execution_count": null,
   "id": "1c6463d7-39b1-476a-a203-c58dfcaf3150",
   "metadata": {},
   "outputs": [],
   "source": [
    "class Iterable:\n",
    "    def __init__(self, list):\n",
    "        self.items = list\n",
    "        self.__current = -1\n",
    "    def __iter__(self):\n",
    "        return self\n",
    "    def __next__(self): # Python 2: def next(self)\n",
    "        self.__current += 1\n",
    "        if self.__current < len(self.items):\n",
    "            return self.items[self.__current]\n",
    "        raise StopIteration\n",
    "    \n",
    "    def getItems(self):\n",
    "        return self.items\n",
    "    \n",
    "it = Iterable([1,2,3])\n",
    "print(it.getItems())\n",
    "for item in it:\n",
    "    print(item)\n"
   ]
  },
  {
   "cell_type": "code",
   "execution_count": null,
   "id": "e8f0e9af-55e9-418e-a227-5733f3273f02",
   "metadata": {},
   "outputs": [],
   "source": [
    "class MyClass:\n",
    "    pass\n",
    "my = MyClass()\n",
    "for item in my:\n",
    "    print(item)"
   ]
  },
  {
   "cell_type": "markdown",
   "id": "79d30d3b-00ca-44d0-aecf-d9774475449b",
   "metadata": {},
   "source": [
    "### How to make an object callable?\n",
    "\n",
    "https://medium.com/swlh/callables-in-python-how-to-make-custom-instance-objects-callable-too-516d6eaf0c8d"
   ]
  }
 ],
 "metadata": {
  "kernelspec": {
   "display_name": "Python 3",
   "language": "python",
   "name": "python3"
  },
  "language_info": {
   "codemirror_mode": {
    "name": "ipython",
    "version": 3
   },
   "file_extension": ".py",
   "mimetype": "text/x-python",
   "name": "python",
   "nbconvert_exporter": "python",
   "pygments_lexer": "ipython3",
   "version": "3.8.2"
  }
 },
 "nbformat": 4,
 "nbformat_minor": 5
}
