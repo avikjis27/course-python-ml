{
 "cells": [
  {
   "cell_type": "markdown",
   "id": "317e08cf-ccd4-4c48-99d2-3aff570ad598",
   "metadata": {},
   "source": [
    "# Day - 5 | Python Advanced"
   ]
  },
  {
   "cell_type": "markdown",
   "id": "7b337d79-41fb-4b7e-988f-5468e3eb1874",
   "metadata": {},
   "source": [
    "## Understand how to debug\n",
    "\n",
    "Please remember \n",
    "- <b>do not let errors force you to correct the code</b>\n",
    "- Be mindful while thinking about the logic\n",
    "- Try to be careful about the edge cases while writing the code\n",
    "- Practice not to use debugger initially\n",
    "- Wont run your code until you think it should run correctly\n",
    "\n",
    "To debug in Jupyter NB use breakpoint() for python 3 and use `step` `next` `continue` to debug.\n",
    "For visual studio code - \n",
    "- select proper python version\n",
    "```\n",
    "Under the view menu select 'show command pallet'. One of the commands you can then select from the command palette is 'Python: Select Interpreter'. Selecting this option will allow you to choose which version of python to use.Under the view menu select 'show command pallet'. One of the commands you can then select from the command palette is 'Python: Select Interpreter'. Selecting this option will allow you to choose which version of python to use.\n",
    "```\n",
    "- Add breakpoint in the UI\n",
    "- Debug the current python code\n",
    "- Use the UI to process with debugging"
   ]
  },
  {
   "cell_type": "code",
   "execution_count": null,
   "id": "e3437909-ba0e-4f4e-a2d4-8ddf9a95569d",
   "metadata": {},
   "outputs": [],
   "source": [
    "def bedug_func():\n",
    "    print(\"Stepping into this function\")\n",
    "test = input(\"Give a string: \")\n",
    "temp_stack = []\n",
    "matching = {\n",
    "    '(':')',\n",
    "    '{':'}',\n",
    "    '[':']'\n",
    "}\n",
    "for char in test:\n",
    "    breakpoint()\n",
    "    if char in matching.keys():\n",
    "        temp_stack.append(char)\n",
    "        bedug_func()\n",
    "    if char in matching.values():\n",
    "        top = temp_stack.pop(-1)\n",
    "        if char != matching[top]:\n",
    "            break\n",
    "if len(temp_stack) == 0:\n",
    "    print (\"Balanced string\")\n",
    "else:\n",
    "    print(\"Unblanaced String\")"
   ]
  },
  {
   "cell_type": "markdown",
   "id": "41c2b28b-542d-4e63-b816-b1e56fc088a8",
   "metadata": {},
   "source": [
    "## Understand python modules\n",
    "- https://docs.python.org/3/tutorial/modules.html\n",
    "- https://docs.python.org/3/tutorial/modules.html#the-module-search-pathhttps://docs.python.org/3/tutorial/modules.html#the-module-search-path"
   ]
  },
  {
   "cell_type": "markdown",
   "id": "7b68ad08-2d8d-47fa-a2fc-fe42be012a31",
   "metadata": {},
   "source": [
    "- Understand what is a module\n",
    "- Understand dir function\n",
    "- Understand what is the module search process\n",
    "- Understand what is package\n",
    "- understand compiled python file cache"
   ]
  },
  {
   "cell_type": "markdown",
   "id": "277a15fc-c7d1-4757-a100-f8dc32ad78e5",
   "metadata": {},
   "source": [
    "### Folder structure\n",
    "```\n",
    ".\n",
    "├── LL\n",
    "│   └── ll.py\n",
    "└── test.py\n",
    "```"
   ]
  },
  {
   "cell_type": "markdown",
   "id": "0ec96241-7006-4608-9fc4-a796ffe9a3a1",
   "metadata": {},
   "source": [
    "## Understanding python packages"
   ]
  },
  {
   "cell_type": "markdown",
   "id": "327910e0-3539-4441-bd13-1526e32d1a6a",
   "metadata": {},
   "source": [
    "### Folder structure\n",
    "\n",
    "```\n",
    ".\n",
    "├── DS\n",
    "│   ├── Array\n",
    "│   │   ├── __init__.py\n",
    "│   │   └── array.py\n",
    "│   ├── Graph\n",
    "│   │   ├── __init__.py\n",
    "│   │   └── graph.py\n",
    "│   ├── LL\n",
    "│   │   ├── __init__.py\n",
    "│   │   ├── dll.py\n",
    "│   │   └── ll.py\n",
    "│   └── __init__.py\n",
    "└── test.py\n",
    "```"
   ]
  },
  {
   "cell_type": "markdown",
   "id": "1e3aa59d-3ed4-4d08-8f6c-1feed5749c04",
   "metadata": {},
   "source": [
    "## Scopes and Namespaces\n",
    "\n",
    "https://docs.python.org/3/tutorial/classes.html#python-scopes-and-namespaceshttps://docs.python.org/3/tutorial/classes.html#python-scopes-and-namespaces"
   ]
  },
  {
   "cell_type": "markdown",
   "id": "1de69883-db74-408a-94cf-bc3702e4d239",
   "metadata": {},
   "source": [
    "<b>A namespace is a mapping from names to objects</b>. Most namespaces are currently implemented as Python dictionaries."
   ]
  },
  {
   "cell_type": "code",
   "execution_count": 2,
   "id": "41c12eb4-926a-40d0-aebd-b319f278b827",
   "metadata": {},
   "outputs": [
    {
     "name": "stdout",
     "output_type": "stream",
     "text": [
      "After local assignment: test spam\n",
      "After nonlocal assignment: nonlocal spam\n",
      "After global assignment: nonlocal spam\n",
      "In global scope: global spam\n"
     ]
    }
   ],
   "source": [
    "def scope_test():\n",
    "    def do_local():\n",
    "        spam = \"local spam\"\n",
    "\n",
    "    def do_nonlocal():\n",
    "        nonlocal spam\n",
    "        spam = \"nonlocal spam\"\n",
    "\n",
    "    def do_global():\n",
    "        global spam\n",
    "        spam = \"global spam\"\n",
    "\n",
    "    spam = \"test spam\"\n",
    "    do_local()\n",
    "    print(\"After local assignment:\", spam)\n",
    "    do_nonlocal()\n",
    "    print(\"After nonlocal assignment:\", spam)\n",
    "    do_global()\n",
    "    print(\"After global assignment:\", spam)\n",
    "#print(\"In global scope:\", spam)\n",
    "scope_test()\n",
    "print(\"In global scope:\", spam)"
   ]
  },
  {
   "cell_type": "markdown",
   "id": "6a422083-82f8-405f-a00b-ad9f45cbffdc",
   "metadata": {},
   "source": [
    "## Python File handling"
   ]
  },
  {
   "cell_type": "markdown",
   "id": "d2382cfe-1eed-4124-b1c5-f58b19be342d",
   "metadata": {},
   "source": [
    "### File opening and reading"
   ]
  },
  {
   "cell_type": "code",
   "execution_count": 3,
   "id": "4d98b437-bde6-4e46-b11a-2fc226fc17e1",
   "metadata": {},
   "outputs": [
    {
     "name": "stdout",
     "output_type": "stream",
     "text": [
      "Line - 1\n",
      "Line - 2\n",
      "Line - 3\n",
      "Line - 4\n",
      "Line - 5\n",
      "--------------------\n",
      "Line - 1\n",
      "\n",
      "Line - 2\n",
      "\n",
      "Line - 3\n",
      "\n",
      "Line - 4\n",
      "\n",
      "Line - 5\n"
     ]
    }
   ],
   "source": [
    "f = open('file-line', 'r')\n",
    "#print(type(f))\n",
    "#help(open)\n",
    "print(f.read())\n",
    "f.seek(0)\n",
    "## Read line by line\n",
    "print(\"--\"*10)\n",
    "for line in f:\n",
    "    print(line)"
   ]
  },
  {
   "cell_type": "markdown",
   "id": "1b25c557-8e1f-49b7-a653-14dcf3a15d57",
   "metadata": {},
   "source": [
    "### File seeking"
   ]
  },
  {
   "cell_type": "code",
   "execution_count": 4,
   "id": "8356a0ea-7c2a-45aa-9cf2-d2c407f5c0e7",
   "metadata": {},
   "outputs": [
    {
     "name": "stdout",
     "output_type": "stream",
     "text": [
      "b'1234567890abcdefghijklmnopqrstuvwxyz'\n",
      "Reset to start\n",
      "b'1234567890abcdefghijklmnopqrstuvwxyz'\n",
      "Reset to 2nd byte\n",
      "b'34567890abcdefghijklmnopqrstuvwxyz'\n",
      "Reset to 10th byte from end\n",
      "b'qrstuvwxyz'\n",
      "Reset to 10th byte from start\n",
      "b'a'\n",
      "Current position 11\n",
      "Reset to 3rd byte from current position\n",
      "b'e'\n",
      "Current position 15\n"
     ]
    }
   ],
   "source": [
    "f = open('file-seek', 'rb')\n",
    "#help(f)\n",
    "print(f.readline())\n",
    "#help(f.seek)\n",
    "print(\"Reset to start\")\n",
    "f.seek(0)\n",
    "print(f.readline())\n",
    "print(\"Reset to 2nd byte\")\n",
    "f.seek(2)\n",
    "print(f.readline())\n",
    "print(\"Reset to 10th byte from end\")\n",
    "f.seek(-10, 2)#Only supported in binary mode\n",
    "print(f.readline())\n",
    "print(\"Reset to 10th byte from start\")\n",
    "f.seek(10)#Only supported in binary mode\n",
    "print(f.read(1))\n",
    "print(f\"Current position {f.tell()}\")\n",
    "print(\"Reset to 3rd byte from current position\")\n",
    "f.seek(3, 1)#Only supported in binary mode\n",
    "print(f.read(1))\n",
    "print(f\"Current position {f.tell()}\")"
   ]
  },
  {
   "cell_type": "markdown",
   "id": "868f960d-63d8-4693-978f-7eef7ceadcf8",
   "metadata": {},
   "source": [
    "## Miscellaneous"
   ]
  },
  {
   "cell_type": "markdown",
   "id": "8d16811b-4253-407e-8a03-41bb42a1adf2",
   "metadata": {},
   "source": [
    "### Can you manupulate Object namespace at runtime? "
   ]
  },
  {
   "cell_type": "code",
   "execution_count": null,
   "id": "29835885-a11f-43a8-91c1-2576ae9b9397",
   "metadata": {},
   "outputs": [],
   "source": [
    "class Fun:\n",
    "    def __init__(self):\n",
    "        self.dict = {'a':2, 'b':3}\n",
    "        self.a = 20\n",
    "    def print_ns(self):\n",
    "        print(self.__dict__)\n",
    "    def modify_ns(self):\n",
    "        self.__dict__['a'] = 10\n",
    "    def delete_attr(self):\n",
    "        del self.a\n",
    "\n",
    "f = Fun()\n",
    "print(\"Original Fun object namespace\")\n",
    "f.print_ns()\n",
    "print(\"Updating value of a using __dict__\")\n",
    "f.modify_ns()\n",
    "f.print_ns()\n",
    "print(\"Deleting object attribute\")\n",
    "f.delete_attr()\n",
    "f.print_ns()"
   ]
  },
  {
   "cell_type": "markdown",
   "id": "ca765ca3-c23a-4c0d-9007-d27cae5b7404",
   "metadata": {},
   "source": [
    "### Understand mutable and immutable argument passing"
   ]
  },
  {
   "cell_type": "code",
   "execution_count": null,
   "id": "94f0d3d2-5248-4849-9277-7e5883c0c48f",
   "metadata": {},
   "outputs": [],
   "source": [
    "## Pass by value and pass by reference\n",
    "\n",
    "def fun(int_var, dict_var):\n",
    "    val = 2\n",
    "    dict_var['a'] = 3\n",
    "\n",
    "int_var = 3\n",
    "dict_var = {'a':2}\n",
    "print(f\"Before calling: int_var: {int_var}, dict_var: {dict_var}\")\n",
    "fun(int_var, dict_var)\n",
    "print(f\"After calling: int_var: {int_var}, dict_var: {dict_var}\")"
   ]
  }
 ],
 "metadata": {
  "kernelspec": {
   "display_name": "Python 3",
   "language": "python",
   "name": "python3"
  },
  "language_info": {
   "codemirror_mode": {
    "name": "ipython",
    "version": 3
   },
   "file_extension": ".py",
   "mimetype": "text/x-python",
   "name": "python",
   "nbconvert_exporter": "python",
   "pygments_lexer": "ipython3",
   "version": "3.8.2"
  }
 },
 "nbformat": 4,
 "nbformat_minor": 5
}
