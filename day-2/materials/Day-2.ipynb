{
 "cells": [
  {
   "cell_type": "markdown",
   "id": "7fe67ce0-1243-4c5e-9f31-1f59faa8295a",
   "metadata": {},
   "source": [
    "# Day - 2 | Python basics"
   ]
  },
  {
   "cell_type": "markdown",
   "id": "7f4a4214-91be-4023-9002-9e9d0b0322eb",
   "metadata": {},
   "source": [
    " ## Hello world program and experimenting with it\n",
    " \n",
    " - Understand the basics through this simple program\n",
    " - Observe how the program behaves in python 3 and python 2\n",
    " - Try changing the case of print function name\n",
    " - Try to use \"f\" string in python 3\n",
    " - Understand the function eval in this case\n",
    " - Try to input some expression instead of a single number and see how it behaves\n",
    " - Observe the multiple arguments in the print statement and how they are separated and how the line ends work.\n",
    " - Look at the use of variable.\n",
    " - Variable naming conventions\n",
    " \n",
    "  1. Variable names can contain letters, numbers, and the underscore. \n",
    "  2. Variable names cannot contain spaces.\n",
    "  3. Variable names cannot start with a number.\n",
    "  4. Case matters—for instance, temp and Temp are different."
   ]
  },
  {
   "cell_type": "code",
   "execution_count": 24,
   "id": "e99efe75-c186-4649-ac22-87e7c20e5675",
   "metadata": {},
   "outputs": [
    {
     "name": "stdin",
     "output_type": "stream",
     "text": [
      "Enter the first number:  2\n",
      "Enter the second number:  3\n"
     ]
    },
    {
     "name": "stdout",
     "output_type": "stream",
     "text": [
      "The average of the numbers you entered is 2.5\n"
     ]
    }
   ],
   "source": [
    "num1 = eval(input('Enter the first number: '))\n",
    "num2 = eval(input('Enter the second number: '))\n",
    "print('The average of the numbers you entered is', (num1+num2)/2)"
   ]
  },
  {
   "cell_type": "markdown",
   "id": "acd81e65-0840-48bf-872c-65044447b71d",
   "metadata": {},
   "source": [
    "### Understand the difference between Python 2 and Python 3\n",
    "\n",
    "#### Python 3 \n",
    "- Print functional brackets are compulsory.\n",
    "- Division of integers may result in the float - 5/2=2.5.\n",
    "- Raw_input() not available.\n",
    "- Input always reads the string.\n",
    "\n",
    "#### Python 2\n",
    "- Print functional brackets are optional.\n",
    "- Division of integers always returns integer - 5/2=2.\n",
    "- Raw_input () reads string.\n",
    "- input() evaluates data read.\n"
   ]
  },
  {
   "cell_type": "markdown",
   "id": "c5ce21af-85b5-4184-bfa3-72c2c6424d4b",
   "metadata": {},
   "source": [
    "### Get help !!"
   ]
  },
  {
   "cell_type": "code",
   "execution_count": null,
   "id": "41c63338-bd97-4740-8c1e-0089e851678c",
   "metadata": {},
   "outputs": [],
   "source": [
    "help(print)"
   ]
  },
  {
   "cell_type": "markdown",
   "id": "81bb64e3-1a07-4faa-b717-74a37b2dceb3",
   "metadata": {},
   "source": [
    "## Python Data types | Numbers\n",
    "- Observe everything is associated with a Class type\n",
    "- Observe the type of `long_number` variable. Check how to convert it to Long.\n",
    "- Where is long number in python? Check the type of x in `x=2L`. Use python 2 for that. See [this](https://portingguide.readthedocs.io/en/latest/numbers.html#unification-of-int-and-long) for details.\n",
    "- How big `integer` python 3 supports? <b>It depends on machine's memory</b>\n",
    "- Octal and hexa decimal numbers"
   ]
  },
  {
   "cell_type": "code",
   "execution_count": null,
   "id": "bba8043e-a081-4737-b2b3-2ece9089a4d4",
   "metadata": {},
   "outputs": [],
   "source": [
    "int_number = 3\n",
    "print (type(int_number))\n",
    "float_number = 4.2\n",
    "print (type(float_number))\n",
    "long_number = 123333333333666663336666633366666\n",
    "print (type(long_number))\n",
    "complex_number = 2+5j\n",
    "print (type(complex_number))\n",
    "hexa_number = 0x344\n",
    "print (type(hexa_number))\n",
    "octa_number = 0o344\n",
    "print (type(octa_number))"
   ]
  },
  {
   "cell_type": "code",
   "execution_count": null,
   "id": "566a6fdd-cf58-4096-9ba0-29ea452b175a",
   "metadata": {},
   "outputs": [],
   "source": [
    "hexa_number = 17\n",
    "print (hex(hexa_number))\n",
    "octa_number = 9\n",
    "print (oct(octa_number))"
   ]
  },
  {
   "cell_type": "code",
   "execution_count": null,
   "id": "f9b9d6ea-f3e9-4005-9ce8-99aca8a1d9d0",
   "metadata": {},
   "outputs": [],
   "source": [
    "int_number = int(23.4)\n",
    "print(int_number, type(int_number))\n",
    "float_number = float(23)\n",
    "print(float_number, type(float_number))\n",
    "complex_number = complex(23.9)\n",
    "print(complex_number, type(complex_number))"
   ]
  },
  {
   "cell_type": "markdown",
   "id": "c18ae843-cb28-413c-8be0-276a9e6dcbf5",
   "metadata": {},
   "source": [
    "### Discuss about math functions"
   ]
  },
  {
   "cell_type": "code",
   "execution_count": null,
   "id": "b8cb029a-95ab-489f-afce-5b8f3cc88d83",
   "metadata": {},
   "outputs": [],
   "source": [
    "import math\n",
    "dir(math)\n",
    "help(math.ceil)"
   ]
  },
  {
   "cell_type": "markdown",
   "id": "988546db-ab7a-4c00-9417-13d721c9d311",
   "metadata": {},
   "source": [
    "### Discuss about random numbers"
   ]
  },
  {
   "cell_type": "code",
   "execution_count": null,
   "id": "cddb3f2d-9ff3-4f85-b1df-a057bad8342d",
   "metadata": {},
   "outputs": [],
   "source": [
    "from random import randint\n",
    "help(randint)\n",
    "randint(1,6)\n",
    "import random\n",
    "dir(random)"
   ]
  },
  {
   "cell_type": "markdown",
   "id": "665236f6-dc63-4e46-9c74-fbc6183b80a0",
   "metadata": {},
   "source": [
    "## Python Data types | Strings"
   ]
  },
  {
   "cell_type": "code",
   "execution_count": null,
   "id": "6e9ec0a8-4bba-4026-aa2d-c6c3a743c5dd",
   "metadata": {},
   "outputs": [],
   "source": [
    "single_quoted = 'Hello'\n",
    "double_quoted = \"Hello\"\n",
    "triple_quoted = \"\"\"This is a long string that is spread across two lines.\"\"\"\n",
    "print (type(single_quoted), type(double_quoted), type(triple_quoted))"
   ]
  },
  {
   "cell_type": "code",
   "execution_count": null,
   "id": "64c1ff5b-f20f-4c57-87b4-1aa310eb75c4",
   "metadata": {},
   "outputs": [],
   "source": [
    "#Get object identification number\n",
    "#help(id)\n",
    "print(id(single_quoted))"
   ]
  },
  {
   "cell_type": "code",
   "execution_count": null,
   "id": "61014e18-61f0-46dd-b893-07202a10148b",
   "metadata": {},
   "outputs": [],
   "source": [
    "# Test if Python string is immutable?\n",
    "single_quoted = 'Hello' + ' World'\n",
    "print(id(single_quoted))"
   ]
  },
  {
   "cell_type": "code",
   "execution_count": null,
   "id": "158b0f46-7721-4365-bf2b-c56e377917c0",
   "metadata": {},
   "outputs": [],
   "source": [
    "print (single_quoted[1])\n",
    "#single_quoted[1] = 'f'"
   ]
  },
  {
   "cell_type": "markdown",
   "id": "c8539fdf-6bf4-4906-b673-7426743bd775",
   "metadata": {},
   "source": [
    "### Observe how string is formed"
   ]
  },
  {
   "cell_type": "code",
   "execution_count": null,
   "id": "c1d31174-a307-4422-8d4c-f2fb84df1566",
   "metadata": {},
   "outputs": [],
   "source": [
    "fruit = 'banana'\n",
    "\n",
    "for idx in range (0,5):\n",
    "    print(fruit[idx], \"=\", id(fruit[idx]))"
   ]
  },
  {
   "cell_type": "markdown",
   "id": "76108589-adbe-4089-b19d-ec64f5eaa6db",
   "metadata": {},
   "source": [
    "### Operator overloading and String "
   ]
  },
  {
   "cell_type": "code",
   "execution_count": null,
   "id": "92fa16c1-9b38-475e-99b7-b47cab40d6f5",
   "metadata": {},
   "outputs": [],
   "source": [
    "print (\"I\" + \" love\" + \" India\")\n",
    "print (\"Hell\" + \"o\"*10 + \" India\")\n",
    "#print (\"Hello\" - \"o\")\n",
    "#print (\"Hello\" / \"o\")"
   ]
  },
  {
   "cell_type": "markdown",
   "id": "e391f42d-b8f0-4652-92af-37c2b5232afc",
   "metadata": {},
   "source": [
    "### In operator"
   ]
  },
  {
   "cell_type": "code",
   "execution_count": null,
   "id": "f3ee52c3-a4e9-4362-851c-6b7a8efefdc5",
   "metadata": {},
   "outputs": [],
   "source": [
    "if 'r' in \"string\":\n",
    "    print('Your string contains the letter r.')"
   ]
  },
  {
   "cell_type": "markdown",
   "id": "70ede89b-52d3-4ce5-9bab-8eb3f871bdfe",
   "metadata": {},
   "source": [
    "### Formatted String"
   ]
  },
  {
   "cell_type": "code",
   "execution_count": null,
   "id": "892d08bf-6eaf-446c-9fa9-decbc983cc24",
   "metadata": {},
   "outputs": [],
   "source": [
    "my_country = \"India\"\n",
    "print (f'Hello {my_country}')"
   ]
  },
  {
   "cell_type": "markdown",
   "id": "7ab8bc79-af29-485a-851e-a0e24b973dbf",
   "metadata": {},
   "source": [
    "### Indexing"
   ]
  },
  {
   "cell_type": "code",
   "execution_count": null,
   "id": "1f708f74-fcfc-4319-b500-52182b43ab1e",
   "metadata": {},
   "outputs": [],
   "source": [
    "fruit = \"Pineapple\"\n",
    "print(fruit[0])\n",
    "print(fruit[1])\n",
    "print(fruit[-1])\n",
    "print(fruit[-2])\n",
    "#print(fruit[10])"
   ]
  },
  {
   "cell_type": "markdown",
   "id": "5afcf2ad-6503-4d16-b025-c56f9023490a",
   "metadata": {},
   "source": [
    "### Slices and understand the similarity with range() function"
   ]
  },
  {
   "cell_type": "code",
   "execution_count": null,
   "id": "1fb5be3e-b893-412b-9b94-8911c186a4a3",
   "metadata": {},
   "outputs": [],
   "source": [
    "# string name[starting location : ending location+1 : stride]\n",
    "s = \"abcdefghij\"\n",
    "#.   0123456789\n",
    "print(s[:])\n",
    "print(s[2:])\n",
    "print(s[:2])\n",
    "print(s[:-2])\n",
    "print(s[-2:])\n",
    "print(s[::2])"
   ]
  },
  {
   "cell_type": "markdown",
   "id": "b826e490-f200-40d5-8c44-9c7c3d0d5e95",
   "metadata": {},
   "source": [
    "### String functions"
   ]
  },
  {
   "cell_type": "code",
   "execution_count": null,
   "id": "e332483b-24fb-4675-99d3-4f47fa934ee6",
   "metadata": {},
   "outputs": [],
   "source": [
    "s = \"ab\"\n",
    "dir(s)\n",
    "## Do we have length function in String?\n",
    "help(len)\n",
    "print(len(s))"
   ]
  },
  {
   "cell_type": "markdown",
   "id": "931e11dd-b26a-4a3b-afb9-36d3a58cce9d",
   "metadata": {},
   "source": [
    "## Basic control flow structure"
   ]
  },
  {
   "cell_type": "markdown",
   "id": "1c0db5de-d1f1-42de-abc0-66a538cdbe3a",
   "metadata": {},
   "source": [
    "### Theoretic background\n",
    "\n",
    "Modern languages are all structured language. In [Structured program theorem](https://en.wikipedia.org/wiki/Structured_program_theorem) it was shown that a class of [control-flow graphs](https://en.wikipedia.org/wiki/Control-flow_graph) (historically called flowcharts in this context) can compute any computable function if it combines subprograms in only three specific ways (control structures). These are\n",
    "\n",
    "Executing one subprogram, and then another subprogram (sequence)\n",
    "Executing one of two subprograms according to the value of a boolean expression (selection)\n",
    "Repeatedly executing a subprogram as long as a boolean expression is true (iteration)\n",
    "\n",
    "Being a structured programing language it has all the above constructs."
   ]
  },
  {
   "cell_type": "markdown",
   "id": "a10c7e3b-2705-4389-8187-0327922ba326",
   "metadata": {},
   "source": [
    "### !! Remember Indentation matters !!"
   ]
  },
  {
   "cell_type": "markdown",
   "id": "a6de6d7f-cfe9-4a99-b3cc-ab28c8c7293a",
   "metadata": {},
   "source": [
    "### If - Else | Guess a number"
   ]
  },
  {
   "cell_type": "code",
   "execution_count": null,
   "id": "0bd0f5d2-e6e6-4006-b923-39446753fd6d",
   "metadata": {},
   "outputs": [],
   "source": [
    "from random import randint\n",
    "num = randint(1,10)\n",
    "guess = eval(input('Enter your guess: ')) \n",
    "if guess == num:\n",
    "    print('You got it!')\n",
    "else:\n",
    "    print (f'You missed it! It was {num}')"
   ]
  },
  {
   "cell_type": "markdown",
   "id": "b3b26507-6a84-41cf-8537-c8bbc73d5ff9",
   "metadata": {},
   "source": [
    "### Conditional operators and logical operators"
   ]
  },
  {
   "cell_type": "code",
   "execution_count": null,
   "id": "5fd96f06-3343-4c2d-924c-8108b982e5a7",
   "metadata": {},
   "outputs": [],
   "source": [
    "grade = eval(input('Enter your score: '))\n",
    "if grade>=90: print('A')\n",
    "if grade>=80 and grade<90: print('B')\n",
    "if grade>=70 and grade<80: print('C')\n",
    "if grade>=60 and grade<70: print('D')\n",
    "if grade<60: print('F')"
   ]
  },
  {
   "cell_type": "markdown",
   "id": "8ad88b01-460c-4ead-8a23-d1a37c13a289",
   "metadata": {},
   "source": [
    "### Refactor the above code introducing elif"
   ]
  },
  {
   "cell_type": "code",
   "execution_count": null,
   "id": "1d4a8914-7412-4a53-9ee7-b1fbc0da6b97",
   "metadata": {},
   "outputs": [],
   "source": [
    "grade = eval(input('Enter your score: '))\n",
    "if grade>=90: print('A')\n",
    "elif grade>=80: print('B')\n",
    "elif grade>=70: print('C')\n",
    "elif grade>=60: print('D')\n",
    "else: print('F')"
   ]
  },
  {
   "cell_type": "markdown",
   "id": "9fc2e505-bbea-4c84-84ca-8b60215beed9",
   "metadata": {},
   "source": [
    "### Programing Exercise"
   ]
  },
  {
   "cell_type": "markdown",
   "id": "77f3eb1e-aeab-4076-8246-0f7e77f3a369",
   "metadata": {},
   "source": [
    "Write a program that lets the user play Rock-Paper-Scissors against the computer. There should be five rounds, and after those five rounds, your program should print out who won and lost or that there is a tie."
   ]
  },
  {
   "cell_type": "markdown",
   "id": "e03db7f3-0b83-4592-b331-2bc0ca246a44",
   "metadata": {},
   "source": [
    "### Looping - Style 1"
   ]
  },
  {
   "cell_type": "code",
   "execution_count": 6,
   "id": "a3dffe86-de27-45b4-b4b4-cedac2422970",
   "metadata": {},
   "outputs": [
    {
     "name": "stdin",
     "output_type": "stream",
     "text": [
      "Enter a number:  1\n",
      "Enter a number:  2\n",
      "Enter a number:  3\n",
      "Enter a number:  4\n",
      "Enter a number:  5\n",
      "Enter a number:  6\n",
      "Enter a number:  7\n",
      "Enter a number:  8\n",
      "Enter a number:  22\n",
      "Enter a number:  33\n"
     ]
    },
    {
     "name": "stdout",
     "output_type": "stream",
     "text": [
      "There are 2 numbers greater than 10.\n"
     ]
    }
   ],
   "source": [
    "count = 0\n",
    "for i in range(10):\n",
    "    num = eval(input('Enter a number: ')) \n",
    "    if num>10:\n",
    "        count=count+1\n",
    "print('There are', count, 'numbers greater than 10.')"
   ]
  },
  {
   "cell_type": "markdown",
   "id": "296bb442-ebbf-43a3-a63a-d3137b669765",
   "metadata": {},
   "source": [
    "### Looping - Style 2"
   ]
  },
  {
   "cell_type": "code",
   "execution_count": 8,
   "id": "597605fa-b83d-4068-b531-af4a7b561259",
   "metadata": {},
   "outputs": [
    {
     "name": "stdout",
     "output_type": "stream",
     "text": [
      "4\n",
      "8\n",
      "16\n",
      "32\n",
      "Exited while loop.\n"
     ]
    }
   ],
   "source": [
    "var1 = 2\n",
    "while var1 < 32:\n",
    "    var1 = var1 * 2\n",
    "    print(var1)\n",
    "print(\"Exited while loop.\")"
   ]
  },
  {
   "cell_type": "markdown",
   "id": "b8ba967d-5a0c-42dd-8249-47989d6679d7",
   "metadata": {},
   "source": [
    "### Looping - Infinite"
   ]
  },
  {
   "cell_type": "code",
   "execution_count": 11,
   "id": "d1b395fe-8ec1-43c1-9495-0a7e86f64145",
   "metadata": {},
   "outputs": [
    {
     "name": "stdin",
     "output_type": "stream",
     "text": [
      "Please enter 'hello': sa\n",
      "Please enter 'hello': dsd\n",
      "Please enter 'hello': hello\n"
     ]
    }
   ],
   "source": [
    "while True:\n",
    "    message = input(\"Please enter 'hello':\")\n",
    "    if message.strip() == 'hello':\n",
    "        break"
   ]
  },
  {
   "cell_type": "markdown",
   "id": "77b5cb15-0f7a-495c-a7c8-7aab3b295518",
   "metadata": {},
   "source": [
    "## Miscellaneous topics"
   ]
  },
  {
   "cell_type": "markdown",
   "id": "40cc38e8-fc21-487b-9555-12602cf22a32",
   "metadata": {},
   "source": [
    "### Cyclomatic complexity \n",
    "Is the measure of how many independent code paths there are through your application. A path is a sequence of statements that the interpreter can follow to get to the end of the application. One way to think of cyclomatic complexity and code paths is imagine your code is like a railway network.\n",
    "\n",
    "Check [this](https://realpython.com/python-refactoring/#:~:text=Cyclomatic%20complexity%20is%20the%20measure,is%20like%20a%20railway%20network.) out."
   ]
  },
  {
   "cell_type": "markdown",
   "id": "ed3c647d-cb5b-4d65-a19a-c711ba053c62",
   "metadata": {},
   "source": [
    "### Mutability and references"
   ]
  },
  {
   "cell_type": "markdown",
   "id": "66bcc0d8-66a3-4b04-bc22-2d613c9a70e6",
   "metadata": {},
   "source": [
    "Strings are **immutable**, which means they cannot be changed. The reason strings are immutable is partly for performance (immutable objects are faster) and partly because strings are thought of fundamental in the same way that numbers are. It makes some other aspects of the language easier as well.\n",
    "\n",
    "**References**: Everything in Python is an object. This includes numbers, strings, and lists. When we do a simple variable assignment, like x=487, what actually happens is Python creates an integer object with the value 487, and the variable x acts as a reference to that object. It’s not that the value 4 is stored in a memory location named x, but rather that 487 is stored somewhere in memory, and x points to that location. If we come along and declare y=487, then y also points to that same memory location.\n",
    "\n",
    "**Garbage collection** Internally Python maintains a count of how many references there are to each object. When the reference count of an object drops to 0, then the object is no longer needed, and the memory it had been using becomes available again."
   ]
  },
  {
   "cell_type": "markdown",
   "id": "2f221791-5793-4ca6-b4cb-1a7e0aaebf7f",
   "metadata": {},
   "source": [
    "### eval and exec"
   ]
  },
  {
   "cell_type": "markdown",
   "id": "96030f94-0390-4cc4-9312-fc65f07a526e",
   "metadata": {},
   "source": [
    "The eval and exec functions allow a program to execute Python code while the program is run- ning. The eval function is used for simple expressions, while exec can execute arbitrarily long blocks of code."
   ]
  },
  {
   "cell_type": "code",
   "execution_count": 20,
   "id": "2c1ac060-1c84-4d3b-afb0-689a1f2fcfbf",
   "metadata": {},
   "outputs": [
    {
     "name": "stdout",
     "output_type": "stream",
     "text": [
      "0\n",
      "3\n",
      "6\n",
      "9\n"
     ]
    }
   ],
   "source": [
    " s = \"\"\"\n",
    " x=3\n",
    " for i in range(4):\n",
    "   print(i*x)\n",
    "\"\"\"\n",
    "exec(s)"
   ]
  },
  {
   "cell_type": "code",
   "execution_count": 23,
   "id": "eaa22a65-4577-4ca7-ac73-5e3eeb18786e",
   "metadata": {},
   "outputs": [
    {
     "name": "stdin",
     "output_type": "stream",
     "text": [
      "Enter a number:  3+3\n"
     ]
    },
    {
     "name": "stdout",
     "output_type": "stream",
     "text": [
      "6\n"
     ]
    }
   ],
   "source": [
    "num = eval(input('Enter a number: '))\n",
    "print(num)"
   ]
  },
  {
   "cell_type": "raw",
   "id": "99b5f357-d593-4cc0-8eed-321d4d450a85",
   "metadata": {},
   "source": [
    "Security issue The eval and exec functions can be dangerous. There is always the chance that your users might input some code that could do something dangerous to the machine. They could also use it to inspect the values of your variables (which could be bad if, for some reason, you were storing passwords in a variable). So, you will want to be careful about using these functions in code where security is important."
   ]
  }
 ],
 "metadata": {
  "kernelspec": {
   "display_name": "Python 3",
   "language": "python",
   "name": "python3"
  },
  "language_info": {
   "codemirror_mode": {
    "name": "ipython",
    "version": 3
   },
   "file_extension": ".py",
   "mimetype": "text/x-python",
   "name": "python",
   "nbconvert_exporter": "python",
   "pygments_lexer": "ipython3",
   "version": "3.8.2"
  }
 },
 "nbformat": 4,
 "nbformat_minor": 5
}
